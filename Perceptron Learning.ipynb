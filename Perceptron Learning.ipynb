{
 "cells": [
  {
   "cell_type": "code",
   "execution_count": 1,
   "metadata": {},
   "outputs": [
    {
     "name": "stdout",
     "output_type": "stream",
     "text": [
      "(70, 2)\n",
      "(70, 2)\n"
     ]
    },
    {
     "data": {
      "text/html": [
       "<div>\n",
       "<style scoped>\n",
       "    .dataframe tbody tr th:only-of-type {\n",
       "        vertical-align: middle;\n",
       "    }\n",
       "\n",
       "    .dataframe tbody tr th {\n",
       "        vertical-align: top;\n",
       "    }\n",
       "\n",
       "    .dataframe thead th {\n",
       "        text-align: right;\n",
       "    }\n",
       "</style>\n",
       "<table border=\"1\" class=\"dataframe\">\n",
       "  <thead>\n",
       "    <tr style=\"text-align: right;\">\n",
       "      <th></th>\n",
       "      <th>weight</th>\n",
       "      <th>height</th>\n",
       "    </tr>\n",
       "  </thead>\n",
       "  <tbody>\n",
       "    <tr>\n",
       "      <th>0</th>\n",
       "      <td>0.407</td>\n",
       "      <td>0.347</td>\n",
       "    </tr>\n",
       "    <tr>\n",
       "      <th>1</th>\n",
       "      <td>0.644</td>\n",
       "      <td>0.415</td>\n",
       "    </tr>\n",
       "    <tr>\n",
       "      <th>2</th>\n",
       "      <td>0.110</td>\n",
       "      <td>0.010</td>\n",
       "    </tr>\n",
       "    <tr>\n",
       "      <th>3</th>\n",
       "      <td>0.907</td>\n",
       "      <td>0.859</td>\n",
       "    </tr>\n",
       "    <tr>\n",
       "      <th>4</th>\n",
       "      <td>0.836</td>\n",
       "      <td>0.211</td>\n",
       "    </tr>\n",
       "  </tbody>\n",
       "</table>\n",
       "</div>"
      ],
      "text/plain": [
       "   weight  height\n",
       "0   0.407   0.347\n",
       "1   0.644   0.415\n",
       "2   0.110   0.010\n",
       "3   0.907   0.859\n",
       "4   0.836   0.211"
      ]
     },
     "execution_count": 1,
     "metadata": {},
     "output_type": "execute_result"
    }
   ],
   "source": [
    "# CAP 6619 2020 Fall, X. Zhu, Sept 20 2020\n",
    "# Single Perceptron Learning and Decision Boundary Visualizaiton\n",
    "%matplotlib inline\n",
    "import matplotlib.pyplot as plt\n",
    "import pandas as pd\n",
    "import numpy as np\n",
    "import random\n",
    "class1 = pd.read_csv(\"Class1Linear.txt\")\n",
    "class2 = pd.read_csv(\"Class2Linear.txt\")\n",
    "print(class1.shape)\n",
    "print(class2.shape)\n",
    "class1.head()"
   ]
  },
  {
   "cell_type": "code",
   "execution_count": 2,
   "metadata": {},
   "outputs": [
    {
     "data": {
      "text/html": [
       "<div>\n",
       "<style scoped>\n",
       "    .dataframe tbody tr th:only-of-type {\n",
       "        vertical-align: middle;\n",
       "    }\n",
       "\n",
       "    .dataframe tbody tr th {\n",
       "        vertical-align: top;\n",
       "    }\n",
       "\n",
       "    .dataframe thead th {\n",
       "        text-align: right;\n",
       "    }\n",
       "</style>\n",
       "<table border=\"1\" class=\"dataframe\">\n",
       "  <thead>\n",
       "    <tr style=\"text-align: right;\">\n",
       "      <th></th>\n",
       "      <th>weight</th>\n",
       "      <th>height</th>\n",
       "      <th>label</th>\n",
       "    </tr>\n",
       "  </thead>\n",
       "  <tbody>\n",
       "    <tr>\n",
       "      <th>0</th>\n",
       "      <td>0.407</td>\n",
       "      <td>0.347</td>\n",
       "      <td>1</td>\n",
       "    </tr>\n",
       "    <tr>\n",
       "      <th>1</th>\n",
       "      <td>0.644</td>\n",
       "      <td>0.415</td>\n",
       "      <td>1</td>\n",
       "    </tr>\n",
       "    <tr>\n",
       "      <th>2</th>\n",
       "      <td>0.110</td>\n",
       "      <td>0.010</td>\n",
       "      <td>1</td>\n",
       "    </tr>\n",
       "    <tr>\n",
       "      <th>3</th>\n",
       "      <td>0.907</td>\n",
       "      <td>0.859</td>\n",
       "      <td>1</td>\n",
       "    </tr>\n",
       "    <tr>\n",
       "      <th>4</th>\n",
       "      <td>0.836</td>\n",
       "      <td>0.211</td>\n",
       "      <td>1</td>\n",
       "    </tr>\n",
       "  </tbody>\n",
       "</table>\n",
       "</div>"
      ],
      "text/plain": [
       "   weight  height  label\n",
       "0   0.407   0.347      1\n",
       "1   0.644   0.415      1\n",
       "2   0.110   0.010      1\n",
       "3   0.907   0.859      1\n",
       "4   0.836   0.211      1"
      ]
     },
     "execution_count": 2,
     "metadata": {},
     "output_type": "execute_result"
    }
   ],
   "source": [
    "# add lables to the data. .insert() will directly modify the dataframe\n",
    "class1.insert(class1.shape[1],'label',1)\n",
    "class1.head()"
   ]
  },
  {
   "cell_type": "code",
   "execution_count": 3,
   "metadata": {},
   "outputs": [
    {
     "data": {
      "text/html": [
       "<div>\n",
       "<style scoped>\n",
       "    .dataframe tbody tr th:only-of-type {\n",
       "        vertical-align: middle;\n",
       "    }\n",
       "\n",
       "    .dataframe tbody tr th {\n",
       "        vertical-align: top;\n",
       "    }\n",
       "\n",
       "    .dataframe thead th {\n",
       "        text-align: right;\n",
       "    }\n",
       "</style>\n",
       "<table border=\"1\" class=\"dataframe\">\n",
       "  <thead>\n",
       "    <tr style=\"text-align: right;\">\n",
       "      <th></th>\n",
       "      <th>weight</th>\n",
       "      <th>height</th>\n",
       "      <th>label</th>\n",
       "    </tr>\n",
       "  </thead>\n",
       "  <tbody>\n",
       "    <tr>\n",
       "      <th>0</th>\n",
       "      <td>0.132</td>\n",
       "      <td>0.757</td>\n",
       "      <td>0</td>\n",
       "    </tr>\n",
       "    <tr>\n",
       "      <th>1</th>\n",
       "      <td>0.722</td>\n",
       "      <td>0.888</td>\n",
       "      <td>0</td>\n",
       "    </tr>\n",
       "    <tr>\n",
       "      <th>2</th>\n",
       "      <td>0.095</td>\n",
       "      <td>0.804</td>\n",
       "      <td>0</td>\n",
       "    </tr>\n",
       "    <tr>\n",
       "      <th>3</th>\n",
       "      <td>0.472</td>\n",
       "      <td>0.701</td>\n",
       "      <td>0</td>\n",
       "    </tr>\n",
       "    <tr>\n",
       "      <th>4</th>\n",
       "      <td>0.179</td>\n",
       "      <td>0.874</td>\n",
       "      <td>0</td>\n",
       "    </tr>\n",
       "  </tbody>\n",
       "</table>\n",
       "</div>"
      ],
      "text/plain": [
       "   weight  height  label\n",
       "0   0.132   0.757      0\n",
       "1   0.722   0.888      0\n",
       "2   0.095   0.804      0\n",
       "3   0.472   0.701      0\n",
       "4   0.179   0.874      0"
      ]
     },
     "execution_count": 3,
     "metadata": {},
     "output_type": "execute_result"
    }
   ],
   "source": [
    "# add lables to the data. .insert() will directly modify the dataframe\n",
    "class2.insert(class2.shape[1],'label',0)\n",
    "class2.head()"
   ]
  },
  {
   "cell_type": "code",
   "execution_count": 4,
   "metadata": {},
   "outputs": [
    {
     "name": "stdout",
     "output_type": "stream",
     "text": [
      "(140, 3)\n"
     ]
    },
    {
     "data": {
      "text/html": [
       "<div>\n",
       "<style scoped>\n",
       "    .dataframe tbody tr th:only-of-type {\n",
       "        vertical-align: middle;\n",
       "    }\n",
       "\n",
       "    .dataframe tbody tr th {\n",
       "        vertical-align: top;\n",
       "    }\n",
       "\n",
       "    .dataframe thead th {\n",
       "        text-align: right;\n",
       "    }\n",
       "</style>\n",
       "<table border=\"1\" class=\"dataframe\">\n",
       "  <thead>\n",
       "    <tr style=\"text-align: right;\">\n",
       "      <th></th>\n",
       "      <th>weight</th>\n",
       "      <th>height</th>\n",
       "      <th>label</th>\n",
       "    </tr>\n",
       "  </thead>\n",
       "  <tbody>\n",
       "    <tr>\n",
       "      <th>0</th>\n",
       "      <td>0.407</td>\n",
       "      <td>0.347</td>\n",
       "      <td>1</td>\n",
       "    </tr>\n",
       "    <tr>\n",
       "      <th>1</th>\n",
       "      <td>0.644</td>\n",
       "      <td>0.415</td>\n",
       "      <td>1</td>\n",
       "    </tr>\n",
       "    <tr>\n",
       "      <th>2</th>\n",
       "      <td>0.110</td>\n",
       "      <td>0.010</td>\n",
       "      <td>1</td>\n",
       "    </tr>\n",
       "    <tr>\n",
       "      <th>3</th>\n",
       "      <td>0.907</td>\n",
       "      <td>0.859</td>\n",
       "      <td>1</td>\n",
       "    </tr>\n",
       "    <tr>\n",
       "      <th>4</th>\n",
       "      <td>0.836</td>\n",
       "      <td>0.211</td>\n",
       "      <td>1</td>\n",
       "    </tr>\n",
       "  </tbody>\n",
       "</table>\n",
       "</div>"
      ],
      "text/plain": [
       "   weight  height  label\n",
       "0   0.407   0.347      1\n",
       "1   0.644   0.415      1\n",
       "2   0.110   0.010      1\n",
       "3   0.907   0.859      1\n",
       "4   0.836   0.211      1"
      ]
     },
     "execution_count": 4,
     "metadata": {},
     "output_type": "execute_result"
    }
   ],
   "source": [
    "class12 = class1.append(class2)\n",
    "print(class12.shape)\n",
    "class12.head()"
   ]
  },
  {
   "cell_type": "code",
   "execution_count": 7,
   "metadata": {},
   "outputs": [
    {
     "data": {
      "text/plain": [
       "Text(0, 0.5, 'X2')"
      ]
     },
     "execution_count": 7,
     "metadata": {},
     "output_type": "execute_result"
    },
    {
     "data": {
      "image/png": "[encoded data removed]",
      "text/plain": [
       "<Figure size 432x288 with 1 Axes>"
      ]
     },
     "metadata": {
      "needs_background": "light"
     },
     "output_type": "display_data"
    }
   ],
   "source": [
    "colors=[\"red\",\"blue\"]\n",
    "plt.scatter(class12.iloc[:,0],class12.iloc[:,1],color=[colors[idx] for idx in class12.iloc[:,2]],marker=\"o\")\n",
    "plt.xlabel(\"X1\")\n",
    "plt.ylabel(\"X2\")\n",
    "# The dataset is clearly not a linearly searable problem."
   ]
  },
  {
   "cell_type": "code",
   "execution_count": 8,
   "metadata": {},
   "outputs": [
    {
     "name": "stdout",
     "output_type": "stream",
     "text": [
      "(112, 2)\n",
      "(28, 2)\n",
      "(112, 1)\n",
      "(28, 1)\n"
     ]
    }
   ],
   "source": [
    "# partitioning the dataset into training vs. test sets\n",
    "features,labels=class12.iloc[:,0:-1],class12.loc[:,['label']]\n",
    "from sklearn.model_selection import train_test_split\n",
    "X_train, X_test, y_train, y_test = train_test_split(features, labels,test_size=.2, random_state=42)\n",
    "print(X_train.shape)\n",
    "print(X_test.shape)\n",
    "print(y_train.shape)\n",
    "print(y_test.shape)"
   ]
  },
  {
   "cell_type": "code",
   "execution_count": 9,
   "metadata": {},
   "outputs": [
    {
     "data": {
      "text/plain": [
       "matrix([[0.704, 0.321],\n",
       "        [0.171, 0.001],\n",
       "        [0.741, 0.613],\n",
       "        [0.569, 0.785],\n",
       "        [0.462, 0.701],\n",
       "        [0.432, 0.841],\n",
       "        [0.917, 0.368],\n",
       "        [0.518, 0.44 ],\n",
       "        [0.237, 0.691],\n",
       "        [0.095, 0.621],\n",
       "        [0.935, 0.321],\n",
       "        [0.407, 0.347],\n",
       "        [0.909, 0.804],\n",
       "        [0.916, 0.075],\n",
       "        [0.482, 0.33 ],\n",
       "        [0.661, 0.556],\n",
       "        [0.069, 0.525],\n",
       "        [0.097, 0.649],\n",
       "        [0.229, 0.984],\n",
       "        [0.945, 0.274],\n",
       "        [0.627, 0.6  ],\n",
       "        [0.896, 0.839],\n",
       "        [0.049, 0.361],\n",
       "        [0.817, 0.183],\n",
       "        [0.819, 0.67 ],\n",
       "        [0.198, 0.955],\n",
       "        [0.116, 0.978],\n",
       "        [0.084, 0.316],\n",
       "        [0.842, 0.102],\n",
       "        [0.677, 0.14 ],\n",
       "        [0.584, 0.99 ],\n",
       "        [0.472, 0.701],\n",
       "        [0.629, 0.153],\n",
       "        [0.446, 0.328],\n",
       "        [0.054, 0.786],\n",
       "        [0.71 , 0.347],\n",
       "        [0.114, 0.464],\n",
       "        [0.495, 0.394],\n",
       "        [0.781, 0.607],\n",
       "        [0.579, 0.841],\n",
       "        [0.664, 0.141],\n",
       "        [0.954, 0.706],\n",
       "        [0.654, 0.906],\n",
       "        [0.068, 0.234],\n",
       "        [0.93 , 0.89 ],\n",
       "        [0.857, 0.428],\n",
       "        [0.769, 0.487],\n",
       "        [0.576, 0.912],\n",
       "        [0.619, 0.489],\n",
       "        [0.572, 0.177],\n",
       "        [0.132, 0.757],\n",
       "        [0.133, 0.396],\n",
       "        [0.638, 0.911],\n",
       "        [0.097, 0.537],\n",
       "        [0.695, 0.227],\n",
       "        [0.224, 0.102],\n",
       "        [0.406, 0.921],\n",
       "        [0.907, 0.859],\n",
       "        [0.383, 0.234],\n",
       "        [0.92 , 0.609],\n",
       "        [0.095, 0.804],\n",
       "        [0.065, 0.777],\n",
       "        [0.807, 0.466],\n",
       "        [0.366, 0.888],\n",
       "        [0.604, 0.859],\n",
       "        [0.139, 0.764],\n",
       "        [0.876, 0.342],\n",
       "        [0.53 , 0.091],\n",
       "        [0.312, 0.559],\n",
       "        [0.831, 0.59 ],\n",
       "        [0.15 , 0.506],\n",
       "        [0.686, 0.329],\n",
       "        [0.254, 0.646],\n",
       "        [0.165, 0.372],\n",
       "        [0.575, 0.724],\n",
       "        [0.709, 0.863],\n",
       "        [0.412, 0.326],\n",
       "        [0.702, 0.386],\n",
       "        [0.169, 0.877],\n",
       "        [0.549, 0.317],\n",
       "        [0.392, 0.697],\n",
       "        [0.334, 0.576],\n",
       "        [0.147, 0.826],\n",
       "        [0.9  , 0.032],\n",
       "        [0.023, 0.664],\n",
       "        [0.598, 0.446],\n",
       "        [0.649, 0.905],\n",
       "        [0.887, 0.003],\n",
       "        [0.999, 0.726],\n",
       "        [0.384, 0.846],\n",
       "        [0.853, 0.151],\n",
       "        [0.78 , 0.341],\n",
       "        [0.081, 0.758],\n",
       "        [0.025, 0.332],\n",
       "        [0.644, 0.415],\n",
       "        [0.537, 0.431],\n",
       "        [0.43 , 0.404],\n",
       "        [0.11 , 0.01 ],\n",
       "        [0.828, 0.412],\n",
       "        [0.573, 0.714],\n",
       "        [0.177, 0.398],\n",
       "        [0.423, 0.956],\n",
       "        [0.108, 0.241],\n",
       "        [0.179, 0.874],\n",
       "        [0.045, 0.252],\n",
       "        [0.126, 0.42 ],\n",
       "        [0.922, 0.166],\n",
       "        [0.722, 0.888],\n",
       "        [0.807, 0.96 ],\n",
       "        [0.387, 0.091],\n",
       "        [0.046, 0.646],\n",
       "        [0.166, 0.459]])"
      ]
     },
     "execution_count": 9,
     "metadata": {},
     "output_type": "execute_result"
    }
   ],
   "source": [
    "# covert data from dataframe into matrix format for arithemetic calculation\n",
    "X_train_m=np.asmatrix(X_train, dtype = 'float64')\n",
    "X_test_m=np.asmatrix(X_test, dtype = 'float64')\n",
    "y_train_m=np.asmatrix(y_train, dtype = 'float64')\n",
    "y_test_m=np.asmatrix(y_test, dtype = 'float64')\n",
    "X_train_m"
   ]
  },
  {
   "cell_type": "code",
   "execution_count": 11,
   "metadata": {},
   "outputs": [],
   "source": [
    "def perceptron(features, labels, learning_rate, threshold):\n",
    "    # random initialize weight values between rage: [-0.5,0.5]\n",
    "    w = np.random.rand(features.shape[1]+1)-0.5\n",
    "    misclassified_ = []\n",
    "    misclassified=1\n",
    "    while misclassified !=0:\n",
    "        misclassified = 0\n",
    "        for i, x in enumerate(features):\n",
    "            x = np.insert(x,0,1)\n",
    "            v = np.dot(w, x.transpose())\n",
    "            actual = 1.0 if (v >= threshold) else 0\n",
    "            delta = (labels[i] - actual)\n",
    "            if(delta): # misclassified\n",
    "                misclassified += 1\n",
    "                w =w+ (delta*x*learning_rate)\n",
    "        misclassified_.append(misclassified)\n",
    "    return (w, misclassified_)"
   ]
  },
  {
   "cell_type": "code",
   "execution_count": 12,
   "metadata": {},
   "outputs": [
    {
     "name": "stdout",
     "output_type": "stream",
     "text": [
      "[[ 0.47520038  0.28994573 -0.22198145]] [32, 30, 24, 17, 15, 11, 11, 6, 4, 3, 1, 0]\n"
     ]
    }
   ],
   "source": [
    "eta, threshold=0.01, 0.5\n",
    "w, misclassified=perceptron(X_train_m,y_train_m, eta,threshold)\n",
    "print(w,misclassified)"
   ]
  },
  {
   "cell_type": "code",
   "execution_count": 14,
   "metadata": {},
   "outputs": [
    {
     "data": {
      "image/png": "[encoded data removed]",
      "text/plain": [
       "<Figure size 432x288 with 1 Axes>"
      ]
     },
     "metadata": {
      "needs_background": "light"
     },
     "output_type": "display_data"
    }
   ],
   "source": [
    "epochs = np.arange(1, len(misclassified)+1)\n",
    "plt.plot(epochs, misclassified)\n",
    "plt.xlabel('iterations')\n",
    "plt.ylabel('misclassified')\n",
    "plt.show()"
   ]
  },
  {
   "cell_type": "code",
   "execution_count": 15,
   "metadata": {},
   "outputs": [
    {
     "name": "stdout",
     "output_type": "stream",
     "text": [
      "[[ 0.47520038  0.28994573 -0.22198145]]\n",
      "1.3061709689554981 -0.1117193146594877\n"
     ]
    }
   ],
   "source": [
    "# Now we create a plot to show learned decision boundaries (find slope and intercept)\n",
    "print(w)\n",
    "slope=w[0,1]/w[0,2]*(-1)\n",
    "intercept=w[0,0]/w[0,2]*(-1)+threshold/w[0,2]\n",
    "print(slope,intercept)"
   ]
  },
  {
   "cell_type": "code",
   "execution_count": 17,
   "metadata": {},
   "outputs": [
    {
     "data": {
      "text/plain": [
       "Text(0, 0.5, 'X2')"
      ]
     },
     "execution_count": 17,
     "metadata": {},
     "output_type": "execute_result"
    },
    {
     "data": {
      "image/png": "[encoded data removed]",
      "text/plain": [
       "<Figure size 432x288 with 1 Axes>"
      ]
     },
     "metadata": {
      "needs_background": "light"
     },
     "output_type": "display_data"
    }
   ],
   "source": [
    "xvalues=class12.iloc[:,0]\n",
    "yvalues=xvalues*slope+intercept\n",
    "#plt.scatter(class12.iloc[:,0],class12.iloc[:,1],color=[colors[idx] for idx in class12.iloc[:,2]])\n",
    "plt.scatter(class12.iloc[:,0],class12.iloc[:,1],color=[colors[idx] for idx in class12.iloc[:,2]],marker=\"o\")\n",
    "plt.plot(xvalues,yvalues,\"g-\")\n",
    "plt.ylim(0,1.05)\n",
    "plt.xlabel(\"X1\")\n",
    "plt.ylabel(\"X2\")"
   ]
  },
  {
   "cell_type": "code",
   "execution_count": null,
   "metadata": {},
   "outputs": [],
   "source": []
  }
 ],
 "metadata": {
  "kernelspec": {
   "display_name": "Python 3",
   "language": "python",
   "name": "python3"
  },
  "language_info": {
   "codemirror_mode": {
    "name": "ipython",
    "version": 3
   },
   "file_extension": ".py",
   "mimetype": "text/x-python",
   "name": "python",
   "nbconvert_exporter": "python",
   "pygments_lexer": "ipython3",
   "version": "3.7.9"
  }
 },
 "nbformat": 4,
 "nbformat_minor": 4
}
